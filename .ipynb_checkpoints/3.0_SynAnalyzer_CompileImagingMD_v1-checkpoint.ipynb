{
 "cells": [
  {
   "cell_type": "markdown",
   "id": "99d1c75c-0f29-4c7e-ae97-51b20b02f1f5",
   "metadata": {},
   "source": [
    "# 3.0_SynAnalyzer_CompileImagingMD_v2.ipynb\n",
    "Created by: JFranco | 6 AUG 2024 | Env: SynAnalyzer | Last run: 25 SEP 2024\n",
    "\n",
    "This Python notebook is a essentially a utility function for the SynAnalyzer pipeline. The main task is compiling imaging metadata from multiple prep-level sheets into one MD csv sheet that has only the information that is relevant to plotting SynAnalyzer or ImarisStatsFiles results by tonotopic frequency and normalized to the number of hair cells. \n",
    "\n",
    "This version of the notebook is setup to run in situations where the prep-level MD imaging Excel workbooks have been aggregated into a batch-level folder.\n",
    "\n",
    "REQUIRES: \n",
    "   \n",
    "    - Prep-level MD imaging Excel workbooks are expected to be named in this format: WSS_###.Metadata.Imaging.xlsx\n",
    "    - Workbooks must have a sheet called \"63xImages\" that contain the following information for each image:\n",
    "        - SlideID\n",
    "        - Imagename (without the extension)\n",
    "        - Turn\n",
    "        - RegionID\n",
    "        - Freq\n",
    "        - NoHCRecon *where \"NoHCRecon\" is the number of hair cells that were used for reconstructing surfaces in Imaris\n",
    "    - All workbooks are stored within a dedicated folder named \"PrepLevelMD\"\n",
    "    - User must enter the specific prepIDs to include in the cell below (after package importing cell)"
   ]
  },
  {
   "cell_type": "code",
   "execution_count": 1,
   "id": "6865089a-fd3c-465b-8b2a-d2a33ee6334f",
   "metadata": {},
   "outputs": [],
   "source": [
    "#     *** IMPORT PACKAGES **\n",
    "import pandas as pd\n",
    "import os\n",
    "import xlrd\n",
    "import openpyxl\n",
    "import glob"
   ]
  },
  {
   "cell_type": "code",
   "execution_count": 2,
   "id": "b7f34dc2-422a-437a-95bd-95a461a1358a",
   "metadata": {},
   "outputs": [],
   "source": [
    "#     *** WHAT TO ANALYZE // WHERE TO GET/STORE **\n",
    "# Batch analysis directory (where the new metadata sheet will be stored)\n",
    "batchID = 'SynAnalyzer_BclwTGAging'     \n",
    "# Preps that are included in the analysis\n",
    "preps = ['WSS_048','WSS_049']\n",
    "# Metadata fields to grab\n",
    "mdFields = ['SlideID','ImageName','Turn','RegionID','Freq','NoHCRecon']\n",
    "\n",
    "# Directories \n",
    "#   existing ones \n",
    "dirMain = '/Users/joyfranco/Partners HealthCare Dropbox/Joy Franco/JF_Shared/Data/WSS/BatchAnalysis/'\n",
    "dirBA = dirMain+batchID+'/'\n",
    "dirBAMD = dirBA+'Metadata/'\n",
    "dirPLMD = dirBAMD+ 'PrepLevelMD/'   "
   ]
  },
  {
   "cell_type": "code",
   "execution_count": 3,
   "id": "3b7e0d12-ed79-4b20-8d4b-7ed028914c3a",
   "metadata": {},
   "outputs": [
    {
     "name": "stdout",
     "output_type": "stream",
     "text": [
      "WSS_022.Metadata.Imaging.xlsx does not exist and could not be loaded.\n"
     ]
    }
   ],
   "source": [
    "#      *** BEGIN COMPILIATION PROCESS ***\n",
    "dfMDAll = pd.DataFrame()\n",
    "# Iterate through the preps and build the new metadata sheet\n",
    "for prep in preps:\n",
    "    # Set up the file to look for \n",
    "    fnEx = prep+'.Metadata.Imaging.xlsx'\n",
    "\n",
    "    # Make sure the file exists\n",
    "    if(os.path.isfile(dirPLMD+fnEx)):\n",
    "        # Load the sheet\n",
    "        dfEF = pd.read_excel(dirPLMD+fnEx, sheet_name='63xImages')\n",
    "    \n",
    "        # Add it to the main one\n",
    "        dfMDAll = pd.concat([dfMDAll, dfEF[mdFields]])\n",
    "    else:\n",
    "        print(fnEx+\" does not exist and could not be loaded.\")\n",
    "\n",
    "dfMDAll.to_csv(dirBAMD+batchID+'.Metadata.Imaging.csv') "
   ]
  },
  {
   "cell_type": "code",
   "execution_count": 4,
   "id": "6b0552d4-2438-413a-80a3-9ad028bb3076",
   "metadata": {},
   "outputs": [
    {
     "data": {
      "text/html": [
       "<div>\n",
       "<style scoped>\n",
       "    .dataframe tbody tr th:only-of-type {\n",
       "        vertical-align: middle;\n",
       "    }\n",
       "\n",
       "    .dataframe tbody tr th {\n",
       "        vertical-align: top;\n",
       "    }\n",
       "\n",
       "    .dataframe thead th {\n",
       "        text-align: right;\n",
       "    }\n",
       "</style>\n",
       "<table border=\"1\" class=\"dataframe\">\n",
       "  <thead>\n",
       "    <tr style=\"text-align: right;\">\n",
       "      <th></th>\n",
       "    </tr>\n",
       "  </thead>\n",
       "  <tbody>\n",
       "  </tbody>\n",
       "</table>\n",
       "</div>"
      ],
      "text/plain": [
       "Empty DataFrame\n",
       "Columns: []\n",
       "Index: []"
      ]
     },
     "execution_count": 4,
     "metadata": {},
     "output_type": "execute_result"
    }
   ],
   "source": [
    "dfMDAll"
   ]
  },
  {
   "cell_type": "code",
   "execution_count": null,
   "id": "16016187-6acf-439a-ac5d-4d9d5aaef6ab",
   "metadata": {},
   "outputs": [],
   "source": []
  }
 ],
 "metadata": {
  "kernelspec": {
   "display_name": "Python 3 (ipykernel)",
   "language": "python",
   "name": "python3"
  },
  "language_info": {
   "codemirror_mode": {
    "name": "ipython",
    "version": 3
   },
   "file_extension": ".py",
   "mimetype": "text/x-python",
   "name": "python",
   "nbconvert_exporter": "python",
   "pygments_lexer": "ipython3",
   "version": "3.8.17"
  }
 },
 "nbformat": 4,
 "nbformat_minor": 5
}
