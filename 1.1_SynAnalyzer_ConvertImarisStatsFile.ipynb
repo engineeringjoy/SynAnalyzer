{
 "cells": [
  {
   "cell_type": "markdown",
   "metadata": {
    "colab_type": "text",
    "id": "view-in-github"
   },
   "source": [
    "<a href=\"https://colab.research.google.com/github/engineeringjoy/SynAnalyzer/blob/main/SynAnalyzer_ConvertImarisStatsFile.ipynb\" target=\"_parent\"><img src=\"https://colab.research.google.com/assets/colab-badge.svg\" alt=\"Open In Colab\"/></a>"
   ]
  },
  {
   "cell_type": "markdown",
   "metadata": {
    "id": "JL5DR04zh4A8"
   },
   "source": [
    "# SynAnalyzer.ConvertImarisStatsFile.ipynb\n",
    "Created by: JFranco | 4 JUL 2024\n",
    "\n",
    "THIS FILE NEEDS TO BE UPDATED TO MATCH THE LOCAL VERSION THAT COPIES ADDITIONAL VALUES AND FILTERS SURFACES BASED ON VOLUME. "
   ]
  },
  {
   "cell_type": "code",
   "execution_count": null,
   "metadata": {
    "id": "LFzBLF-lgrL9"
   },
   "outputs": [],
   "source": [
    "import numpy as np\n",
    "import pandas as pd\n",
    "import glob"
   ]
  },
  {
   "cell_type": "code",
   "execution_count": null,
   "metadata": {
    "colab": {
     "base_uri": "https://localhost:8080/"
    },
    "id": "u-NYHDaDiV5A",
    "outputId": "af000037-137c-42df-8bdf-d820a536c021"
   },
   "outputs": [
    {
     "name": "stdout",
     "output_type": "stream",
     "text": [
      "['WSS_031.01.T3.01.Zs.4C.XYZ.PostSyn.xls']\n"
     ]
    }
   ],
   "source": [
    "# Generate a list of all xls files added by the user\n",
    "files = glob.glob('*.xls')\n",
    "print(files)"
   ]
  },
  {
   "cell_type": "code",
   "execution_count": null,
   "metadata": {
    "id": "0NOiEnO9jdKX"
   },
   "outputs": [],
   "source": [
    "# Iterate through the xls files, extract the relavent sheet, and reformat\n",
    "for file in files:\n",
    "  # Read in the sheets that correspond to position and volume as separate dfs\n",
    "  dfXYZ = pd.read_excel(file,skiprows=1, sheet_name='Position')\n",
    "  dfVol = pd.read_excel(file,skiprows=1, sheet_name='Volume')\n",
    "  # Reformat each df to make it a proper df rather than sheet\n",
    "  dfXYZ = dfXYZ.drop(columns=['Unit', 'Category', 'Collection', 'Time'])\n",
    "  dfXYZ.set_index('ID', inplace=True)\n",
    "  dfVol = dfVol.drop(columns=['Unit', 'Category','Time'])\n",
    "  dfVol.set_index('ID', inplace=True)\n",
    "  # Need to transfer the information about the volume over the XYZ df without\n",
    "  #. assumptions about df order\n",
    "  for id in list(dfXYZ.index.values):\n",
    "    # Get the volume associated with this ID from the volume df\n",
    "    vol = dfVol['Volume'][id]\n",
    "    # Store the volume in the XYX df\n",
    "    dfXYZ.at[id, 'Volume_um3'] = vol\n",
    "\n",
    "  dfXYZ.to_csv(file.split('.x')[0]+'.csv')"
   ]
  }
 ],
 "metadata": {
  "colab": {
   "authorship_tag": "ABX9TyMCVtypA5HzYdKA3IoutRoM",
   "include_colab_link": true,
   "mount_file_id": "https://github.com/engineeringjoy/SynAnalyzer/blob/main/SynAnalyzer_ConvertImarisStatsFile.ipynb",
   "provenance": []
  },
  "kernelspec": {
   "display_name": "Python 3 (ipykernel)",
   "language": "python",
   "name": "python3"
  },
  "language_info": {
   "codemirror_mode": {
    "name": "ipython",
    "version": 3
   },
   "file_extension": ".py",
   "mimetype": "text/x-python",
   "name": "python",
   "nbconvert_exporter": "python",
   "pygments_lexer": "ipython3",
   "version": "3.12.1"
  }
 },
 "nbformat": 4,
 "nbformat_minor": 4
}
